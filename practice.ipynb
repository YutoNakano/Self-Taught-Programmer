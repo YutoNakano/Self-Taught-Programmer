{
 "cells": [
  {
   "cell_type": "markdown",
   "metadata": {},
   "source": [
    "独学プログラマー　チャレンジ問題　３章"
   ]
  },
  {
   "cell_type": "code",
   "execution_count": 6,
   "metadata": {},
   "outputs": [
    {
     "name": "stdout",
     "output_type": "stream",
     "text": [
      "その他\n"
     ]
    }
   ],
   "source": [
    "x = 10\n",
    "\n",
    "\n",
    "if  x < 10:\n",
    "    print('hello')\n",
    "elif x > 10 and x <= 25:\n",
    "    print('こんにちは')\n",
    "elif x > 25:\n",
    "    print('25より大きい')\n",
    "else:\n",
    "    print('その他')\n",
    "    "
   ]
  },
  {
   "cell_type": "code",
   "execution_count": 7,
   "metadata": {},
   "outputs": [
    {
     "data": {
      "text/plain": [
       "1"
      ]
     },
     "execution_count": 7,
     "metadata": {},
     "output_type": "execute_result"
    }
   ],
   "source": [
    "10 % 3"
   ]
  },
  {
   "cell_type": "code",
   "execution_count": 8,
   "metadata": {},
   "outputs": [
    {
     "data": {
      "text/plain": [
       "5.0"
      ]
     },
     "execution_count": 8,
     "metadata": {},
     "output_type": "execute_result"
    }
   ],
   "source": [
    "10 / 2"
   ]
  },
  {
   "cell_type": "code",
   "execution_count": 9,
   "metadata": {},
   "outputs": [
    {
     "name": "stdout",
     "output_type": "stream",
     "text": [
      "1\n"
     ]
    }
   ],
   "source": [
    "print(10 % 3)"
   ]
  },
  {
   "cell_type": "code",
   "execution_count": 13,
   "metadata": {},
   "outputs": [
    {
     "name": "stdout",
     "output_type": "stream",
     "text": [
      "成人\n"
     ]
    }
   ],
   "source": [
    "age = 50\n",
    "if age == 20:\n",
    "    print('二十歳')\n",
    "elif age < 20:\n",
    "    print('未成年')\n",
    "else:\n",
    "    print('成人')\n"
   ]
  },
  {
   "cell_type": "markdown",
   "metadata": {},
   "source": [
    "独学プログラマー　チャレンジ問題　4章"
   ]
  },
  {
   "cell_type": "code",
   "execution_count": 9,
   "metadata": {},
   "outputs": [
    {
     "name": "stdout",
     "output_type": "stream",
     "text": [
      "9\n"
     ]
    },
    {
     "data": {
      "text/plain": [
       "81"
      ]
     },
     "execution_count": 9,
     "metadata": {},
     "output_type": "execute_result"
    }
   ],
   "source": [
    "lumine = int(input())\n",
    "\n",
    "\n",
    "def hello():\n",
    "    aiueo = lumine ** 2\n",
    "    return aiueo\n",
    "\n",
    "hello()"
   ]
  },
  {
   "cell_type": "code",
   "execution_count": 27,
   "metadata": {},
   "outputs": [
    {
     "data": {
      "text/plain": [
       "9"
      ]
     },
     "execution_count": 27,
     "metadata": {},
     "output_type": "execute_result"
    }
   ],
   "source": [
    "def huga(number):\n",
    "    \"\"\"\n",
    "    Returns number.\n",
    "    :param number: string.\n",
    "    :return: return number\n",
    "    \"\"\"\n",
    "    return number\n",
    "huga(9)"
   ]
  },
  {
   "cell_type": "code",
   "execution_count": 13,
   "metadata": {},
   "outputs": [
    {
     "data": {
      "text/plain": [
       "23"
      ]
     },
     "execution_count": 13,
     "metadata": {},
     "output_type": "execute_result"
    }
   ],
   "source": [
    "def hoge(x,y,z,i=5,u=3):\n",
    "    \"\"\"\n",
    "    Returns x * y + z + i - u.\n",
    "    :param x: int.\n",
    "    :param y: int.\n",
    "    :param z: int.\n",
    "    :param u: int.\n",
    "    :return: x * y + z + i - u\n",
    "    \"\"\"\n",
    "    return x * y + z + i - u\n",
    "hoge(10,2,1)"
   ]
  },
  {
   "cell_type": "code",
   "execution_count": 16,
   "metadata": {},
   "outputs": [
    {
     "data": {
      "text/plain": [
       "16.0"
      ]
     },
     "execution_count": 16,
     "metadata": {},
     "output_type": "execute_result"
    }
   ],
   "source": [
    "def hoge(o):\n",
    "    \"\"\"\n",
    "    Returns リターン文.\n",
    "    :param 入れて欲しいデータ型.\n",
    "    :return 関数が返す値の説明.\n",
    "    \"\"\"\n",
    "    return o / 2\n",
    "def huge(i):\n",
    "    \"\"\"\n",
    "    Returns i * 4.\n",
    "    :param i: int.\n",
    "    :return i * 4\n",
    "    \"\"\"\n",
    "    return i * 4\n",
    "\n",
    "huga = hoge(8)\n",
    "huge(huga)"
   ]
  },
  {
   "cell_type": "code",
   "execution_count": 28,
   "metadata": {},
   "outputs": [
    {
     "name": "stdout",
     "output_type": "stream",
     "text": [
      "9\n"
     ]
    },
    {
     "data": {
      "text/plain": [
       "9.0"
      ]
     },
     "execution_count": 28,
     "metadata": {},
     "output_type": "execute_result"
    }
   ],
   "source": [
    "\n",
    "def hoge(i):\n",
    "    \"\"\"\n",
    "    Returns float(i)\n",
    "    :param i: int.\n",
    "    :return float(i)\n",
    "    \"\"\"\n",
    "    try:\n",
    "        return float(i)\n",
    "    except ValueError: \n",
    "        print('整数を入力してください')\n",
    "\n",
    "i = input()\n",
    "hoge(i)"
   ]
  },
  {
   "cell_type": "markdown",
   "metadata": {},
   "source": [
    "独学プログラマー　チャレンジ問題　5章"
   ]
  },
  {
   "cell_type": "code",
   "execution_count": 1,
   "metadata": {},
   "outputs": [],
   "source": [
    "love_musician = [\"Hiragana\",\"Keyaki\",\"Gesukiwa\" ]\n"
   ]
  },
  {
   "cell_type": "code",
   "execution_count": 2,
   "metadata": {},
   "outputs": [],
   "source": [
    "my_satues = {\"height\": 170,\"weight\": 53,\"age\":20}"
   ]
  },
  {
   "cell_type": "code",
   "execution_count": 3,
   "metadata": {},
   "outputs": [
    {
     "name": "stdout",
     "output_type": "stream",
     "text": [
      "height\n",
      "170\n"
     ]
    }
   ],
   "source": [
    "character = input()\n",
    "number = my_satues[character]\n",
    "print(number)"
   ]
  },
  {
   "cell_type": "markdown",
   "metadata": {},
   "source": [
    "独学プログラマー　チャレンジ問題　6章"
   ]
  },
  {
   "cell_type": "code",
   "execution_count": 8,
   "metadata": {},
   "outputs": [
    {
     "name": "stdout",
     "output_type": "stream",
     "text": [
      "カ\n",
      "ミ\n",
      "ュ\n"
     ]
    },
    {
     "data": {
      "text/plain": [
       "'ュ'"
      ]
     },
     "execution_count": 8,
     "metadata": {},
     "output_type": "execute_result"
    }
   ],
   "source": [
    "o = \"カミュ\"\n",
    "for i in o:\n",
    "    print(i)\n",
    "    \n",
    "o[0]\n",
    "o[1]\n",
    "o[2]"
   ]
  },
  {
   "cell_type": "code",
   "execution_count": 10,
   "metadata": {},
   "outputs": [
    {
     "data": {
      "text/plain": [
       "'私は昨日手紙を書いて、姉に送った。'"
      ]
     },
     "execution_count": 10,
     "metadata": {},
     "output_type": "execute_result"
    }
   ],
   "source": [
    "what = \"手紙\"\n",
    "who = \"姉\"\n",
    "\n",
    "\"私は昨日{}を書いて、{}に送った。\".format(what,who)"
   ]
  },
  {
   "cell_type": "code",
   "execution_count": 11,
   "metadata": {},
   "outputs": [
    {
     "data": {
      "text/plain": [
       "'Aldous huxley was born in 1894'"
      ]
     },
     "execution_count": 11,
     "metadata": {},
     "output_type": "execute_result"
    }
   ],
   "source": [
    "\"aldous Huxley was born in 1894\".capitalize()"
   ]
  },
  {
   "cell_type": "code",
   "execution_count": 14,
   "metadata": {},
   "outputs": [
    {
     "data": {
      "text/plain": [
       "['姉が', '琵琶湖で', '釣りをした']"
      ]
     },
     "execution_count": 14,
     "metadata": {},
     "output_type": "execute_result"
    }
   ],
   "source": [
    "\"姉が、琵琶湖で、釣りをした\".split(\"、\")"
   ]
  },
  {
   "cell_type": "code",
   "execution_count": 25,
   "metadata": {},
   "outputs": [
    {
     "name": "stdout",
     "output_type": "stream",
     "text": [
      "The fox jumped over the fence.\n"
     ]
    }
   ],
   "source": [
    "words = [\"The\",\"fox\",\"jumped\",\"over\",\"the\",\"fence\",\".\"]\n",
    "one = \" \".join(words)\n",
    "\n",
    "two = one[0: -2] + \".\"\n",
    "\n",
    "print(two)"
   ]
  },
  {
   "cell_type": "code",
   "execution_count": 27,
   "metadata": {},
   "outputs": [
    {
     "name": "stdout",
     "output_type": "stream",
     "text": [
      "A $creaming come$ acro$$ the $ky.\n"
     ]
    }
   ],
   "source": [
    "rp = \"A screaming comes across the sky.\"\n",
    "after = rp.replace(\"s\",\"$\")\n",
    "print(after)"
   ]
  },
  {
   "cell_type": "code",
   "execution_count": 28,
   "metadata": {},
   "outputs": [
    {
     "name": "stdout",
     "output_type": "stream",
     "text": [
      "2\n"
     ]
    }
   ],
   "source": [
    "hoge = \"Hemingway\"\n",
    "print(hoge.index(\"m\"))"
   ]
  },
  {
   "cell_type": "code",
   "execution_count": 33,
   "metadata": {},
   "outputs": [
    {
     "data": {
      "text/plain": [
       "\"向上心'がないやつ'はばかだ\""
      ]
     },
     "execution_count": 33,
     "metadata": {},
     "output_type": "execute_result"
    }
   ],
   "source": [
    "\"向上心'がないやつ'はばかだ\""
   ]
  },
  {
   "cell_type": "code",
   "execution_count": 36,
   "metadata": {},
   "outputs": [
    {
     "name": "stdout",
     "output_type": "stream",
     "text": [
      " three three three\n",
      " three three three\n"
     ]
    }
   ],
   "source": [
    "print(\" three\" + \" three\" + \" three\")\n",
    "print(\" three\" * 3)"
   ]
  },
  {
   "cell_type": "code",
   "execution_count": 39,
   "metadata": {},
   "outputs": [
    {
     "name": "stdout",
     "output_type": "stream",
     "text": [
      "四月の晴れた寒い日\n"
     ]
    }
   ],
   "source": [
    "ivan = \"四月の晴れた寒い日で、時計がどれも十三時を打っていた。\"\n",
    "print(ivan[:9])"
   ]
  },
  {
   "cell_type": "markdown",
   "metadata": {},
   "source": [
    "独学プログラマー　チャレンジ問題　7章"
   ]
  },
  {
   "cell_type": "code",
   "execution_count": 40,
   "metadata": {},
   "outputs": [
    {
     "name": "stdout",
     "output_type": "stream",
     "text": [
      "ウォーキング・デッド\n",
      "アントラージュ\n",
      "ザ・ソプラノズ\n",
      "ヴァンパイア・ダイアリーズ\n"
     ]
    }
   ],
   "source": [
    "hoge = [\"ウォーキング・デッド\",\"アントラージュ\",\"ザ・ソプラノズ\",\"ヴァンパイア・ダイアリーズ\"]\n",
    "for i in hoge:\n",
    "    print(i)"
   ]
  },
  {
   "cell_type": "code",
   "execution_count": 43,
   "metadata": {},
   "outputs": [
    {
     "name": "stdout",
     "output_type": "stream",
     "text": [
      "0\n",
      "1\n",
      "2\n",
      "3\n",
      "4\n",
      "5\n",
      "6\n",
      "7\n",
      "8\n",
      "9\n",
      "10\n",
      "11\n",
      "12\n",
      "13\n",
      "14\n",
      "15\n",
      "16\n",
      "17\n",
      "18\n",
      "19\n",
      "20\n",
      "21\n",
      "22\n",
      "23\n",
      "24\n",
      "25\n",
      "26\n",
      "27\n",
      "28\n",
      "29\n",
      "30\n",
      "31\n",
      "32\n",
      "33\n",
      "34\n",
      "35\n",
      "36\n",
      "37\n",
      "38\n",
      "39\n",
      "40\n",
      "41\n",
      "42\n",
      "43\n",
      "44\n",
      "45\n",
      "46\n",
      "47\n",
      "48\n",
      "49\n",
      "50\n",
      "51\n",
      "52\n",
      "53\n",
      "54\n",
      "55\n",
      "56\n",
      "57\n",
      "58\n",
      "59\n",
      "60\n",
      "61\n",
      "62\n",
      "63\n",
      "64\n",
      "65\n",
      "66\n",
      "67\n",
      "68\n",
      "69\n",
      "70\n",
      "71\n",
      "72\n",
      "73\n",
      "74\n",
      "75\n",
      "76\n",
      "77\n",
      "78\n",
      "79\n",
      "80\n",
      "81\n",
      "82\n",
      "83\n",
      "84\n",
      "85\n",
      "86\n",
      "87\n",
      "88\n",
      "89\n",
      "90\n",
      "91\n",
      "92\n",
      "93\n",
      "94\n",
      "95\n",
      "96\n",
      "97\n",
      "98\n",
      "99\n"
     ]
    }
   ],
   "source": [
    "for i in range(100):\n",
    "    print(i)"
   ]
  },
  {
   "cell_type": "code",
   "execution_count": 53,
   "metadata": {},
   "outputs": [
    {
     "name": "stdout",
     "output_type": "stream",
     "text": [
      "0:ウォーキング・デッド\n",
      "1:アントラージュ\n",
      "2:ザ・ソプラノズ\n",
      "3:ヴァンパイア・ダイアリーズ\n"
     ]
    }
   ],
   "source": [
    "for i in hoge:\n",
    "    u = hoge.index(i)\n",
    "    print(str(u) + \":\" + i)"
   ]
  },
  {
   "cell_type": "code",
   "execution_count": 55,
   "metadata": {},
   "outputs": [
    {
     "name": "stdout",
     "output_type": "stream",
     "text": [
      "0\n",
      "The Walking Dead\n",
      "1\n",
      "Entourage\n",
      "2\n",
      "The Sopranos\n",
      "3\n",
      "The Vampire Diaries\n"
     ]
    }
   ],
   "source": [
    "#answer\n",
    "shows = [\"The Walking Dead\", \"Entourage\", \"The Sopranos\", \"The Vampire Diaries\"]\n",
    "\n",
    "#forループでインデックスを取得できるenumerate関数\n",
    "\n",
    "for index, show in enumerate(shows):\n",
    "    print(index)\n",
    "    print(show)"
   ]
  },
  {
   "cell_type": "code",
   "execution_count": null,
   "metadata": {},
   "outputs": [
    {
     "name": "stdout",
     "output_type": "stream",
     "text": [
      "数字を入力してください、やめる場合はqを入力。:a\n",
      "数字を入力してください！\n",
      "失敗\n",
      "数字を入力してください、やめる場合はqを入力。:2\n",
      "正解です\n"
     ]
    }
   ],
   "source": [
    "answer = [2,3,4,5,8]\n",
    "\n",
    "while True:\n",
    "        try:\n",
    "            s = int(input('数字を入力してください、やめる場合はqを入力。:'))\n",
    "        except ValueError:\n",
    "            print(\"数字を入力してください！\")\n",
    "        if s == \"q\":\n",
    "            break\n",
    "        if s in answer:\n",
    "            print('正解です')\n",
    "        elif s not in answer :\n",
    "            print('失敗')\n",
    "            \n"
   ]
  },
  {
   "cell_type": "code",
   "execution_count": 2,
   "metadata": {},
   "outputs": [
    {
     "name": "stdout",
     "output_type": "stream",
     "text": [
      "[72, 8, 264, 664, 171, 19, 627, 1577, 1332, 148, 4884, 12284, 36, 4, 132, 332]\n"
     ]
    }
   ],
   "source": [
    "boge = [8,19,148,4]\n",
    "bage = [9,1,33,83]\n",
    "result = []\n",
    "for i in boge:\n",
    "    for j in bage:\n",
    "        result.append( i * j )\n",
    "print(result)"
   ]
  },
  {
   "cell_type": "code",
   "execution_count": 3,
   "metadata": {},
   "outputs": [
    {
     "name": "stdout",
     "output_type": "stream",
     "text": [
      "[72, 8, 264, 664, 171, 19, 627, 1577, 1332, 148, 4884, 12284, 36, 4, 132, 332]\n"
     ]
    }
   ],
   "source": [
    "list1 = [8, 19, 148, 4]\n",
    "list2 = [9, 1, 33, 83]\n",
    "list3 = []\n",
    "\n",
    "for i in list1:\n",
    "    for j in list2:\n",
    "        mult = i * j\n",
    "        list3.append(i * j)\n",
    "\n",
    "print(list3)"
   ]
  },
  {
   "cell_type": "code",
   "execution_count": null,
   "metadata": {},
   "outputs": [],
   "source": []
  }
 ],
 "metadata": {
  "kernelspec": {
   "display_name": "Python 3",
   "language": "python",
   "name": "python3"
  },
  "language_info": {
   "codemirror_mode": {
    "name": "ipython",
    "version": 3
   },
   "file_extension": ".py",
   "mimetype": "text/x-python",
   "name": "python",
   "nbconvert_exporter": "python",
   "pygments_lexer": "ipython3",
   "version": "3.7.0"
  }
 },
 "nbformat": 4,
 "nbformat_minor": 2
}
